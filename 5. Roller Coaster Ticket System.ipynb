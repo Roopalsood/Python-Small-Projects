{
 "cells": [
  {
   "cell_type": "code",
   "execution_count": 3,
   "id": "8e5c6b36",
   "metadata": {},
   "outputs": [
    {
     "name": "stdout",
     "output_type": "stream",
     "text": [
      "Roller Coasted System\n"
     ]
    }
   ],
   "source": [
    "print(\"Roller Coasted System\")"
   ]
  },
  {
   "cell_type": "code",
   "execution_count": 9,
   "id": "045d63e5",
   "metadata": {},
   "outputs": [
    {
     "name": "stdout",
     "output_type": "stream",
     "text": [
      "Enter your height in cm: 160\n",
      "You can ride! Hurrahh!!!! :) \n",
      "Enter your age: 50\n",
      "You get a free ticket !! :) \n",
      "Do you want photos ? Y or N: y\n",
      "You need to pay:  30\n"
     ]
    }
   ],
   "source": [
    "height=int(input(\"Enter your height in cm: \"))\n",
    "\n",
    "ticket_cost = 0\n",
    "\n",
    "if(height>120):\n",
    "    print(\"You can ride! Hurrahh!!!! :) \")\n",
    "    age = int(input(\"Enter your age: \"))\n",
    "    if(age<12):\n",
    "        ticket_cost+=50\n",
    "    elif(age>12 and age<18):\n",
    "        ticket_cost+=70\n",
    "    \n",
    "    elif(age>45 and age<55):\n",
    "        print(\"You get a free ticket !! :) \")\\\n",
    "        \n",
    "    else:\n",
    "        ticket_cost+=120\n",
    "    photos = input(\"Do you want photos ? Y or N: \")\n",
    "    \n",
    "    if(photos == 'Y' or photos =='y'):\n",
    "        ticket_cost+=30\n",
    "    print(\"You need to pay: \", ticket_cost)        \n",
    "    \n",
    "else:\n",
    "    print(\"Sorry you cannot ride :( \")"
   ]
  }
 ],
 "metadata": {
  "kernelspec": {
   "display_name": "Python 3 (ipykernel)",
   "language": "python",
   "name": "python3"
  },
  "language_info": {
   "codemirror_mode": {
    "name": "ipython",
    "version": 3
   },
   "file_extension": ".py",
   "mimetype": "text/x-python",
   "name": "python",
   "nbconvert_exporter": "python",
   "pygments_lexer": "ipython3",
   "version": "3.9.12"
  }
 },
 "nbformat": 4,
 "nbformat_minor": 5
}
