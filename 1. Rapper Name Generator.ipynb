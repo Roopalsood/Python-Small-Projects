{
 "cells": [
  {
   "cell_type": "code",
   "execution_count": 1,
   "id": "6aa58a4c",
   "metadata": {},
   "outputs": [
    {
     "name": "stdout",
     "output_type": "stream",
     "text": [
      "Welcome to Rapper Name Generator\n",
      "Enter the name of your pet.\n",
      "odin\n",
      "Enter the name of your city.\n",
      "kullu\n",
      "odin of kullu\n"
     ]
    }
   ],
   "source": [
    "print(\"Welcome to Rapper Name Generator\")\n",
    "\n",
    "pet_name = input(\"Enter the name of your pet.\\n\")\n",
    "\n",
    "city_name = input(\"Enter the name of your city.\\n\")\n",
    "\n",
    "print(pet_name + \" of \" + city_name)\n"
   ]
  },
  {
   "cell_type": "code",
   "execution_count": null,
   "id": "c9b4b85b",
   "metadata": {},
   "outputs": [],
   "source": []
  }
 ],
 "metadata": {
  "kernelspec": {
   "display_name": "Python 3 (ipykernel)",
   "language": "python",
   "name": "python3"
  },
  "language_info": {
   "codemirror_mode": {
    "name": "ipython",
    "version": 3
   },
   "file_extension": ".py",
   "mimetype": "text/x-python",
   "name": "python",
   "nbconvert_exporter": "python",
   "pygments_lexer": "ipython3",
   "version": "3.9.12"
  }
 },
 "nbformat": 4,
 "nbformat_minor": 5
}
