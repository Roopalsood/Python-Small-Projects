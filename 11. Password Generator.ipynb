{
 "cells": [
  {
   "cell_type": "code",
   "execution_count": 21,
   "id": "202b66ca",
   "metadata": {},
   "outputs": [
    {
     "name": "stdout",
     "output_type": "stream",
     "text": [
      "How many letters do you want in your password? 2\n",
      "How many symbols do you want in your password? 3\n",
      "How many numbers do you want in your password? 2\n",
      "Easy password :  AW+#?27\n",
      "Hard password :  5B%?4K@\n"
     ]
    }
   ],
   "source": [
    "import random\n",
    "\n",
    "letters = [\"A\",\"B\",\"C\",\"D\",\"E\",\"F\",\"G\",\"H\",\"I\",\"J\",\"K\",\"L\",\"M\",\"N\",\"O\",\"P\",\"Q\",\"R\",\"S\",\"T\",\"U\",\"V\",\"W\",\"X\",\"Y\",\"Z\"]\n",
    "symbols = [\"^\",\"%\",\"$\",\"#\",\"@\",\"!\",\"&\",\"*\",\"(\",\")\",\"?\",\"+\"]\n",
    "numbers = [\"1\",\"2\",\"3\",\"4\",\"5\",\"6\",\"7\",\"8\",\"9\",\"0\"]\n",
    "\n",
    "password_easy = \"\"\n",
    "password_hard = []\n",
    "hard = \"\"\n",
    "\n",
    "no_of_letters = int(input(\"How many letters do you want in your password? \"))\n",
    "no_of_symbols = int(input(\"How many symbols do you want in your password? \"))\n",
    "no_of_numbers = int(input(\"How many numbers do you want in your password? \"))\n",
    "\n",
    "for i in range(no_of_letters):\n",
    "    password_easy+=random.choice(letters)\n",
    "for i in range(no_of_symbols):\n",
    "    password_easy+=random.choice(symbols)\n",
    "for i in range(no_of_numbers):\n",
    "    password_easy+=random.choice(numbers)\n",
    "    \n",
    "print(\"Easy password : \", password_easy)\n",
    "\n",
    "for i in range(no_of_letters):\n",
    "    x=random.choice(letters)\n",
    "    password_hard.append(x)\n",
    "for i in range(no_of_symbols):\n",
    "    x=random.choice(symbols)\n",
    "    password_hard.append(x)\n",
    "for i in range(no_of_numbers):\n",
    "    x=random.choice(numbers)\n",
    "    password_hard.append(x)\n",
    "\n",
    "random.shuffle(password_hard)\n",
    "\n",
    "\n",
    "for i in password_hard:\n",
    "    hard+=i\n",
    "print(\"Hard password : \", hard)\n",
    "\n"
   ]
  },
  {
   "cell_type": "code",
   "execution_count": null,
   "id": "ed5de8c6",
   "metadata": {},
   "outputs": [],
   "source": []
  }
 ],
 "metadata": {
  "kernelspec": {
   "display_name": "Python 3 (ipykernel)",
   "language": "python",
   "name": "python3"
  },
  "language_info": {
   "codemirror_mode": {
    "name": "ipython",
    "version": 3
   },
   "file_extension": ".py",
   "mimetype": "text/x-python",
   "name": "python",
   "nbconvert_exporter": "python",
   "pygments_lexer": "ipython3",
   "version": "3.9.12"
  }
 },
 "nbformat": 4,
 "nbformat_minor": 5
}
