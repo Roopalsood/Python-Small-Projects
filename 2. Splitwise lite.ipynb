{
 "cells": [
  {
   "cell_type": "code",
   "execution_count": 7,
   "id": "aa7ca547",
   "metadata": {},
   "outputs": [
    {
     "name": "stdout",
     "output_type": "stream",
     "text": [
      "Enter the amount 1000\n",
      "Enter the number of people 3\n",
      "Enter the tip percentage 10\n",
      "Everyone needs to pay  366.67\n"
     ]
    }
   ],
   "source": [
    "amt = int(input(\"Enter the amount \"))\n",
    "people= int(input(\"Enter the number of people \"))\n",
    "tip = int(input(\"Enter the tip percentage \"))\n",
    "\n",
    "pay=(amt+(tip/100)*amt)/people\n",
    "pay = \"{:.2f}\".format(pay)\n",
    "\n",
    "print(\"Everyone needs to pay \", pay)\n",
    "\n"
   ]
  },
  {
   "cell_type": "code",
   "execution_count": null,
   "id": "b1383d1b",
   "metadata": {},
   "outputs": [],
   "source": []
  }
 ],
 "metadata": {
  "kernelspec": {
   "display_name": "Python 3 (ipykernel)",
   "language": "python",
   "name": "python3"
  },
  "language_info": {
   "codemirror_mode": {
    "name": "ipython",
    "version": 3
   },
   "file_extension": ".py",
   "mimetype": "text/x-python",
   "name": "python",
   "nbconvert_exporter": "python",
   "pygments_lexer": "ipython3",
   "version": "3.9.12"
  }
 },
 "nbformat": 4,
 "nbformat_minor": 5
}
