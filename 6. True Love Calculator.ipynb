{
 "cells": [
  {
   "cell_type": "code",
   "execution_count": 1,
   "id": "83dd756d",
   "metadata": {},
   "outputs": [
    {
     "name": "stdout",
     "output_type": "stream",
     "text": [
      "Welcome to True Love Calculator\n"
     ]
    }
   ],
   "source": [
    "print(\"Welcome to True Love Calculator\")"
   ]
  },
  {
   "cell_type": "code",
   "execution_count": null,
   "id": "13b0005a",
   "metadata": {},
   "outputs": [
    {
     "name": "stdout",
     "output_type": "stream",
     "text": [
      "Enter your name: robin kanwar\n"
     ]
    }
   ],
   "source": [
    "name1 = input(\"Enter your name: \")\n",
    "name2 = input(\"Enter their name: \")\n",
    "\n",
    "combined_string = (name1+name2).lower()\n",
    "combined_string\n",
    "\n",
    "t= combined_string.count('t')\n",
    "r= combined_string.count('r')\n",
    "u= combined_string.count('u')\n",
    "e= combined_string.count('e')\n",
    "\n",
    "true = t+r+u+e\n",
    "\n",
    "l= combined_string.count('l')\n",
    "o= combined_string.count('o')\n",
    "v= combined_string.count('v')\n",
    "e= combined_string.count('e')\n",
    "\n",
    "love = l+o+v+e\n",
    "\n",
    "love_score = str(true) + str(love)\n",
    "print(\"Your love score is:\", love_score)\n",
    "\n",
    "if(int(love_score)>70):\n",
    "    print(\"Made for each other!!\")\n",
    "else:\n",
    "    print(\"Don't worry its a stupid game\")"
   ]
  },
  {
   "cell_type": "code",
   "execution_count": null,
   "id": "e5935977",
   "metadata": {},
   "outputs": [],
   "source": []
  }
 ],
 "metadata": {
  "kernelspec": {
   "display_name": "Python 3 (ipykernel)",
   "language": "python",
   "name": "python3"
  },
  "language_info": {
   "codemirror_mode": {
    "name": "ipython",
    "version": 3
   },
   "file_extension": ".py",
   "mimetype": "text/x-python",
   "name": "python",
   "nbconvert_exporter": "python",
   "pygments_lexer": "ipython3",
   "version": "3.9.12"
  }
 },
 "nbformat": 4,
 "nbformat_minor": 5
}
