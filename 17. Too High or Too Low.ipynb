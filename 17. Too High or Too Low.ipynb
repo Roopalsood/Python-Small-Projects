{
 "cells": [
  {
   "cell_type": "code",
   "execution_count": 7,
   "id": "7d4a4224",
   "metadata": {},
   "outputs": [
    {
     "name": "stdout",
     "output_type": "stream",
     "text": [
      "Welcome to the Number Guessing Game!\n",
      "I am thinking of a number between 1 and 100\n",
      "Select a level 'easy' or 'hard': easy\n",
      "You have 10 attempts remaining to guess the number.\n",
      "Make a guess: 45\n",
      "Too Low\n",
      "You have 9 attempts remaining to guess the number.\n",
      "Make a guess: 67\n",
      "Too High\n",
      "You have 8 attempts remaining to guess the number.\n",
      "Make a guess: 56\n",
      "Too High\n",
      "You have 7 attempts remaining to guess the number.\n",
      "Make a guess: 49\n",
      "Too Low\n",
      "You have 6 attempts remaining to guess the number.\n",
      "Make a guess: 53\n",
      "Too High\n",
      "You have 5 attempts remaining to guess the number.\n",
      "Make a guess: 50\n",
      "Too Low\n",
      "You have 4 attempts remaining to guess the number.\n",
      "Make a guess: 52\n",
      "You Got it! You Won !!!\n",
      "If you wish to play again press 'y' and 'n' to exit: y\n",
      "----------------------------------------------------------------------\n",
      "Select a level 'easy' or 'hard': hard\n",
      "You have 5 attempts remaining to guess the number.\n",
      "Make a guess: 56\n",
      "Too Low\n",
      "You have 4 attempts remaining to guess the number.\n",
      "Make a guess: 89\n",
      "You Got it! You Won !!!\n",
      "If you wish to play again press 'y' and 'n' to exit: n\n"
     ]
    }
   ],
   "source": [
    "import random\n",
    "\n",
    "print(\"Welcome to the Number Guessing Game!\")\n",
    "print(\"I am thinking of a number between 1 and 100\")\n",
    "\n",
    "\n",
    "def play():\n",
    "    \n",
    "    level = input(\"Select a level 'easy' or 'hard': \").lower()\n",
    "\n",
    "    if level == 'easy':\n",
    "        trials = 10\n",
    "    elif level == 'hard':\n",
    "        trials=5\n",
    "    \n",
    "    comp_num = random.randint(1,101)\n",
    "    won = False\n",
    "    while(trials):\n",
    "        print(f\"You have {trials} attempts remaining to guess the number.\")\n",
    "        your_num = int(input(\"Make a guess: \"))\n",
    "        \n",
    "        trials-=1\n",
    "\n",
    "        if comp_num > your_num:\n",
    "            print(\"Too Low\")\n",
    "        elif comp_num < your_num:\n",
    "            print(\"Too High\")\n",
    "        elif comp_num == your_num:\n",
    "            print(\"You Got it! You Won !!!\")\n",
    "            won = True\n",
    "            break\n",
    "    if not won:\n",
    "        print(\"You lost!\")\n",
    "        \n",
    "    \n",
    "play()\n",
    "\n",
    "while play_again == 'y':\n",
    "    play_again = input(\"If you wish to play again press 'y' and 'n' to exit: \").lower()\n",
    "    if(play_again=='y'):\n",
    "        print(\"----------------------------------------------------------------------\")\n",
    "        play()"
   ]
  },
  {
   "cell_type": "code",
   "execution_count": null,
   "id": "39095330",
   "metadata": {},
   "outputs": [],
   "source": []
  }
 ],
 "metadata": {
  "kernelspec": {
   "display_name": "Python 3 (ipykernel)",
   "language": "python",
   "name": "python3"
  },
  "language_info": {
   "codemirror_mode": {
    "name": "ipython",
    "version": 3
   },
   "file_extension": ".py",
   "mimetype": "text/x-python",
   "name": "python",
   "nbconvert_exporter": "python",
   "pygments_lexer": "ipython3",
   "version": "3.9.12"
  }
 },
 "nbformat": 4,
 "nbformat_minor": 5
}
