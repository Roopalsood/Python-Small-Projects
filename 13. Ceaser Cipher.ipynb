{
 "cells": [
  {
   "cell_type": "code",
   "execution_count": 9,
   "id": "a6c1d7f5",
   "metadata": {},
   "outputs": [
    {
     "name": "stdout",
     "output_type": "stream",
     "text": [
      "Type 'encode' to encrypt and 'decode' to decrypt: \n",
      "encode\n",
      "Type your message \n",
      "hello\n",
      "Type the shift number: \n",
      "5\n",
      "The encoded text is mjqqt\n",
      "Type 'yes' if you want to go again. Otherwise type 'no'.\n",
      "yes\n",
      "Type 'encode' to encrypt and 'decode' to decrypt: \n",
      "decode\n",
      "Type your message \n",
      "njqqt\n",
      "Type the shift number: \n",
      "4\n",
      "The decoded text is jfmmp\n",
      "Type 'yes' if you want to go again. Otherwise type 'no'.\n",
      "no\n",
      "GoodBye\n"
     ]
    }
   ],
   "source": [
    "alphabet = ['a', 'b', 'c', 'd', 'e', 'f', 'g', 'h','i','j','k','l','m','n','o','p','q','r','s','t','u','v','w','x','y','z','a', 'b', 'c', 'd', 'e', 'f', 'g', 'h','i','j','k','l','m','n','o','p','q','r','s','t','u','v','w','x','y','z']\n",
    "\n",
    "should_continue=True\n",
    "while should_continue:\n",
    "    direction = input(\"Type 'encode' to encrypt and 'decode' to decrypt: \\n\").lower()\n",
    "    text = input(\"Type your message \\n\").lower()\n",
    "    shift = int(input(\"Type the shift number: \\n\"))\n",
    "\n",
    "    shift = shift%26\n",
    "    caeser(start_text = text, shift_amount = shift, direction = direction)\n",
    "    result = input(\"Type 'yes' if you want to go again. Otherwise type 'no'.\\n\")\n",
    "    if result=='no':\n",
    "        should_continue=False\n",
    "        print(\"GoodBye\")\n",
    "\n",
    "\n",
    "def caeser(start_text, shift_amount, direction):\n",
    "    end_text=\"\"\n",
    "    if direction=='decode':\n",
    "            shift_amount *= -1\n",
    "    for char in start_text:\n",
    "        if char in alphabet:\n",
    "            position = alphabet.index(char)       \n",
    "            new_position = position + shift_amount          \n",
    "            end_text += alphabet[new_position]\n",
    "        else:\n",
    "            end_text+=char\n",
    "    print(f\"The {direction}d text is {end_text}\")\n",
    "\n"
   ]
  },
  {
   "cell_type": "code",
   "execution_count": null,
   "id": "26752ad2",
   "metadata": {},
   "outputs": [],
   "source": []
  }
 ],
 "metadata": {
  "kernelspec": {
   "display_name": "Python 3 (ipykernel)",
   "language": "python",
   "name": "python3"
  },
  "language_info": {
   "codemirror_mode": {
    "name": "ipython",
    "version": 3
   },
   "file_extension": ".py",
   "mimetype": "text/x-python",
   "name": "python",
   "nbconvert_exporter": "python",
   "pygments_lexer": "ipython3",
   "version": "3.9.12"
  }
 },
 "nbformat": 4,
 "nbformat_minor": 5
}
