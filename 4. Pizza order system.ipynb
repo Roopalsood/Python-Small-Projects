{
 "cells": [
  {
   "cell_type": "code",
   "execution_count": 11,
   "id": "19c4440c",
   "metadata": {},
   "outputs": [
    {
     "name": "stdout",
     "output_type": "stream",
     "text": [
      "Pizza Order System\n"
     ]
    }
   ],
   "source": [
    "print(\"Pizza Order System\")"
   ]
  },
  {
   "cell_type": "code",
   "execution_count": 17,
   "id": "c68c153a",
   "metadata": {},
   "outputs": [
    {
     "name": "stdout",
     "output_type": "stream",
     "text": [
      "Select size, S, M or L: m\n",
      "Do you want pepperoni? Press Y or N: y\n",
      "Do you want extra cheese? Press Y or N: n\n",
      "Your total bill is:  400\n"
     ]
    }
   ],
   "source": [
    "size = input(\"Select size, S, M or L: \")\n",
    "bill = 0\n",
    "if(size=='S' or size=='s'):\n",
    "    bill+=200   \n",
    "elif(size =='M' or size =='m'):\n",
    "    bill+=300\n",
    "elif (size == 'L' or size=='l'):\n",
    "    bill+=400\n",
    "    \n",
    "pep = input(\"Do you want pepperoni? Press Y or N: \")\n",
    "\n",
    "if(pep == 'Y' or pep == 'y'):\n",
    "    if(size=='S' or size=='s'):\n",
    "        bill+=70\n",
    "    elif(size=='M' or size=='m' or size=='L' or size =='l'):\n",
    "        bill+=100\n",
    "cheese = input(\"Do you want extra cheese? Press Y or N: \")\n",
    "\n",
    "if(cheese == 'Y' or cheese == 'y'):\n",
    "    bill+=50\n",
    "    \n",
    "print(\"Your total bill is: \", bill)\n",
    "    \n"
   ]
  },
  {
   "cell_type": "code",
   "execution_count": null,
   "id": "6de2d5b3",
   "metadata": {},
   "outputs": [],
   "source": []
  }
 ],
 "metadata": {
  "kernelspec": {
   "display_name": "Python 3 (ipykernel)",
   "language": "python",
   "name": "python3"
  },
  "language_info": {
   "codemirror_mode": {
    "name": "ipython",
    "version": 3
   },
   "file_extension": ".py",
   "mimetype": "text/x-python",
   "name": "python",
   "nbconvert_exporter": "python",
   "pygments_lexer": "ipython3",
   "version": "3.9.12"
  }
 },
 "nbformat": 4,
 "nbformat_minor": 5
}
