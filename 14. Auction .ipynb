{
 "cells": [
  {
   "cell_type": "code",
   "execution_count": null,
   "id": "0a7135cb",
   "metadata": {},
   "outputs": [
    {
     "name": "stdout",
     "output_type": "stream",
     "text": [
      "What is your name? roopal\n",
      "What is your bid? 25\n",
      "Are there any more bidders? yes\n",
      "What is your name? robin\n",
      "What is your bid? 90\n",
      "Are there any more bidders? yes\n"
     ]
    }
   ],
   "source": [
    "import os\n",
    "\n",
    "#\n",
    "\n",
    "bids= {}\n",
    "\n",
    "continue_bid = True\n",
    "while continue_bid:\n",
    "    name = input(\"What is your name? \")\n",
    "    price = int(input(\"What is your bid? \"))\n",
    "    bids[name]=price\n",
    "    more = input(\"Are there any more bidders? \").lower()\n",
    "    if(more=='yes'):\n",
    "        os.system('clear')\n",
    "        continue_bid=True\n",
    "    else:\n",
    "        continue_bid = False\n",
    "\n",
    "\n",
    "highest_bid = 0\n",
    "for bidder in bids:\n",
    "    bid_amt = bids[bidder]\n",
    "    if bid_amt > highest_bid:\n",
    "        highest_bid = bid_amt\n",
    "        winner = bidder\n",
    "print(winner)"
   ]
  },
  {
   "cell_type": "code",
   "execution_count": null,
   "id": "dad6a11f",
   "metadata": {},
   "outputs": [],
   "source": []
  }
 ],
 "metadata": {
  "kernelspec": {
   "display_name": "Python 3 (ipykernel)",
   "language": "python",
   "name": "python3"
  },
  "language_info": {
   "codemirror_mode": {
    "name": "ipython",
    "version": 3
   },
   "file_extension": ".py",
   "mimetype": "text/x-python",
   "name": "python",
   "nbconvert_exporter": "python",
   "pygments_lexer": "ipython3",
   "version": "3.9.12"
  }
 },
 "nbformat": 4,
 "nbformat_minor": 5
}
