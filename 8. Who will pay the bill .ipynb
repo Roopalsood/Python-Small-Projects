{
 "cells": [
  {
   "cell_type": "code",
   "execution_count": 2,
   "id": "b6a2ce9c",
   "metadata": {},
   "outputs": [
    {
     "name": "stdout",
     "output_type": "stream",
     "text": [
      "Who will pay the bill? \n"
     ]
    }
   ],
   "source": [
    "print(\"Who will pay the bill? \")"
   ]
  },
  {
   "cell_type": "code",
   "execution_count": 15,
   "id": "0332906d",
   "metadata": {},
   "outputs": [
    {
     "name": "stdout",
     "output_type": "stream",
     "text": [
      "Enter the name of people separated by a comma: arnaja, robin, roopal, suck, parth, dhruv\n",
      "The person who will pay is:  dhruv\n"
     ]
    }
   ],
   "source": [
    "import random\n",
    "people = input(\"Enter the name of people separated by a comma: \")\n",
    "names=people.split(', ')\n",
    "    \n",
    "random = random.randint(0, len(names)-1)\n",
    "print(\"The person who will pay is: \", names[random])"
   ]
  }
 ],
 "metadata": {
  "kernelspec": {
   "display_name": "Python 3 (ipykernel)",
   "language": "python",
   "name": "python3"
  },
  "language_info": {
   "codemirror_mode": {
    "name": "ipython",
    "version": 3
   },
   "file_extension": ".py",
   "mimetype": "text/x-python",
   "name": "python",
   "nbconvert_exporter": "python",
   "pygments_lexer": "ipython3",
   "version": "3.9.12"
  }
 },
 "nbformat": 4,
 "nbformat_minor": 5
}
